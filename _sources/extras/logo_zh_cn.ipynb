{
 "cells": [
  {
   "cell_type": "code",
   "execution_count": 9,
   "metadata": {},
   "outputs": [],
   "source": [
    "import pandas as pd\n",
    "import numpy as np\n",
    "from mplfonts.bin.cli import init\n",
    "init()\n",
    "from mplfonts import use_font\n",
    "use_font('SimHei')\n",
    "import matplotlib.pyplot as plt\n",
    "import matplotlib.patheffects as path_effects\n",
    "plt.style.use('seaborn-whitegrid')"
   ]
  },
  {
   "cell_type": "code",
   "execution_count": 10,
   "metadata": {},
   "outputs": [],
   "source": [
    "ys1 = [np.random.laplace(loc=0, scale=1) for _ in range(10000)]\n",
    "ys2 = [np.random.laplace(loc=1, scale=1) for _ in range(10000)]"
   ]
  },
  {
   "cell_type": "code",
   "execution_count": 12,
   "outputs": [
    {
     "data": {
      "text/plain": "<matplotlib.font_manager.FontProperties at 0x14a56cdf0>"
     },
     "execution_count": 12,
     "metadata": {},
     "output_type": "execute_result"
    }
   ],
   "source": [
    "import matplotlib\n",
    "f = matplotlib.font_manager.FontProperties(family='SimHei', weight='bold')\n",
    "f"
   ],
   "metadata": {
    "collapsed": false,
    "pycharm": {
     "name": "#%%\n"
    }
   }
  },
  {
   "cell_type": "code",
   "execution_count": 32,
   "metadata": {},
   "outputs": [
    {
     "data": {
      "text/plain": "<Figure size 800x160 with 1 Axes>",
      "image/png": "[encoded data removed]"
     },
     "metadata": {},
     "output_type": "display_data"
    }
   ],
   "source": [
    "plt.figure(figsize=(10, 2), dpi=80)\n",
    "_, bins, _ = plt.hist(ys1, bins=100, color='#66AC47',\n",
    "                     path_effects=[path_effects.withSimplePatchShadow(alpha=.1, offset=(1,-1))]);\n",
    "plt.hist(ys2, bins=bins, alpha=.7, color='#A7D4EE',\n",
    "        path_effects=[path_effects.withSimplePatchShadow(alpha=.1, offset=(1,-1))]);\n",
    "plt.axis('off');\n",
    "plt.grid('off');\n",
    "plt.text(-1.7, -240, '动手学', fontproperties=f, fontsize=24, color='#007155',\n",
    "         path_effects=[path_effects.withSimplePatchShadow(offset=(1, -1), alpha=.1)]);\n",
    "plt.text(0.5, -240, '差分隐私', fontproperties=f, fontsize=24, color='#66AC47',\n",
    "         path_effects=[path_effects.withSimplePatchShadow(offset=(1, -1), alpha=.1)]);\n",
    "plt.tight_layout()\n",
    "plt.savefig('logo_zh_cn.png')"
   ]
  },
  {
   "cell_type": "code",
   "execution_count": null,
   "metadata": {},
   "outputs": [],
   "source": []
  }
 ],
 "metadata": {
  "kernelspec": {
   "display_name": "Python 3",
   "language": "python",
   "name": "python3"
  },
  "language_info": {
   "codemirror_mode": {
    "name": "ipython",
    "version": 3
   },
   "file_extension": ".py",
   "mimetype": "text/x-python",
   "name": "python",
   "nbconvert_exporter": "python",
   "pygments_lexer": "ipython3",
   "version": "3.6.10"
  }
 },
 "nbformat": 4,
 "nbformat_minor": 4
}