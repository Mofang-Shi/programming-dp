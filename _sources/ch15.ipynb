{
 "cells": [
  {
   "cell_type": "code",
   "execution_count": 18,
   "metadata": {
    "tags": [
     "remove-cell"
    ]
   },
   "outputs": [],
   "source": [
    "%matplotlib inline\n",
    "import matplotlib.pyplot as plt\n",
    "plt.style.use('seaborn-whitegrid')\n",
    "import pandas as pd\n",
    "import numpy as np\n",
    "from collections import defaultdict\n",
    "\n",
    "# Some useful utilities\n",
    "\n",
    "def laplace_mech(v, sensitivity, epsilon):\n",
    "    return v + np.random.laplace(loc=0, scale=sensitivity / epsilon)\n",
    "\n",
    "def gaussian_mech(v, sensitivity, epsilon, delta):\n",
    "    return v + np.random.normal(loc=0, scale=sensitivity * np.sqrt(2*np.log(1.25/delta)) / epsilon)\n",
    "\n",
    "def gaussian_mech_vec(v, sensitivity, epsilon, delta):\n",
    "    return v + np.random.normal(loc=0, scale=sensitivity * np.sqrt(2*np.log(1.25/delta)) / epsilon, size=len(v))\n",
    "\n",
    "def pct_error(orig, priv):\n",
    "    return np.abs(orig - priv)/orig * 100.0\n",
    "\n",
    "def z_clip(xs, b):\n",
    "    return [min(x, b) for x in xs]\n",
    "\n",
    "def g_clip(v):\n",
    "    n = np.linalg.norm(v, ord=2)\n",
    "    if n > 1:\n",
    "        return v / n\n",
    "    else:\n",
    "        return v\n",
    "    \n",
    "X = np.load('adult_processed_x.npy')\n",
    "y = np.load('adult_processed_y.npy')\n",
    "\n",
    "training_size = int(X.shape[0] * 0.8)\n",
    "\n",
    "X_train = X[:training_size]\n",
    "X_test = X[training_size:]\n",
    "\n",
    "y_train = y[:training_size]\n",
    "y_test = y[training_size:]\n",
    "\n",
    "y_test.shape\n",
    "\n",
    "def predict(xi, theta, bias=0):\n",
    "    label = np.sign(xi @ theta + bias)\n",
    "    return label\n",
    "\n",
    "# The loss function measures how good our model is. The training goal is to minimize the loss.\n",
    "# This is the logistic loss function.\n",
    "def loss(theta, xi, yi):\n",
    "    exponent = - yi * (xi.dot(theta))\n",
    "    return np.log(1 + np.exp(exponent))\n",
    "\n",
    "# This is the gradient of the logistic loss\n",
    "# The gradient is a vector that indicates the rate of change of the loss in each direction\n",
    "def gradient(theta, xi, yi):\n",
    "    exponent = yi * (xi.dot(theta))\n",
    "    return - (yi*xi) / (1+np.exp(exponent))\n",
    "\n",
    "def accuracy(theta):\n",
    "    return np.sum(predict(X_test, theta) == y_test)/X_test.shape[0]\n",
    "\n",
    "def avg_grad(theta, X, y):\n",
    "    grads = [gradient(theta, xi, yi) for xi, yi in zip(X, y)]\n",
    "    return np.mean(grads, axis=0)\n",
    "\n",
    "def gradient_descent(iterations):\n",
    "    # Start by \"guessing\" what the model should be (all zeros)\n",
    "    theta = np.zeros(X_train.shape[1])\n",
    "\n",
    "    # Perform `iterations` steps of gradient descent using training data\n",
    "    for i in range(iterations):\n",
    "        theta = theta - avg_grad(theta, X_train, y_train)\n",
    "\n",
    "    return theta\n",
    "\n",
    "def L2_clip(v, b):\n",
    "    norm = np.linalg.norm(v, ord=2)\n",
    "    \n",
    "    if norm > b:\n",
    "        return b * (v / norm)\n",
    "    else:\n",
    "        return v\n",
    "    \n",
    "def gradient_sum(theta, X, y, b):\n",
    "    gradients = [gradient(theta, x_i, y_i) for x_i, y_i in zip(X,y)]\n",
    "        \n",
    "    # sum query\n",
    "    # L2 sensitivity is b (by sensitivity of the gradient)\n",
    "    return np.sum(gradients, axis=0)\n",
    "\n",
    "def noisy_gradient_descent(iterations, epsilon, delta):\n",
    "    theta = np.zeros(X_train.shape[1])\n",
    "    sensitivity = 5.0\n",
    "    \n",
    "    noisy_count = laplace_mech(X_train.shape[0], 1, epsilon)\n",
    "    clipped_X = [L2_clip(x_i, sensitivity) for x_i in X_train]\n",
    "\n",
    "    for i in range(iterations):\n",
    "        grad_sum        = gradient_sum(theta, clipped_X, y_train, sensitivity)\n",
    "        noisy_grad_sum  = gaussian_mech_vec(grad_sum, sensitivity, epsilon, delta)\n",
    "        noisy_avg_grad  = noisy_grad_sum / noisy_count\n",
    "        theta           = theta - noisy_avg_grad\n",
    "\n",
    "    return theta"
   ]
  },
  {
   "cell_type": "markdown",
   "metadata": {},
   "source": [
    "# Efficiency\n",
    "\n",
    "```{admonition} Learning Objectives\n",
    "After reading this chapter, you will be able to:\n",
    "- Design experiments to measure time and space overhead for private algorithms\n",
    "- Consider tradeoffs between space and time efficiency\n",
    "- Consider techniques for optimization\n",
    "- Describe the efficiency bottlenecks in differentially private algorithms\n",
    "```"
   ]
  },
  {
   "cell_type": "markdown",
   "metadata": {},
   "source": [
    "## Time Efficiency of Differential Privacy\n",
    "\n",
    "In a situation where the application of differential privacy is implemented as a direct loop over sensitive entities, there is a significant time cost incurred from the added burden of random number generation.\n",
    "\n",
    "We can contrast the runtime performance of two versions of a counting query - one with differential privacy, and one without it."
   ]
  },
  {
   "cell_type": "code",
   "execution_count": 19,
   "metadata": {},
   "outputs": [],
   "source": [
    "import itertools\n",
    "import operator\n",
    "import time\n",
    "\n",
    "def time_count(k):   \n",
    "    l = [1] * k\n",
    "    start = time.perf_counter()\n",
    "    _ = list(itertools.accumulate(l, func=operator.add))\n",
    "    stop = time.perf_counter()\n",
    "    return stop - start \n",
    "\n",
    "def time_priv_count(k):  \n",
    "    l = [1] * k\n",
    "    start = time.perf_counter()\n",
    "    _ = list(itertools.accumulate(l, func=lambda x, y: x + laplace_mech(y,1,0.1), initial=0))\n",
    "    stop = time.perf_counter()\n",
    "    return stop - start "
   ]
  },
  {
   "cell_type": "code",
   "execution_count": 20,
   "metadata": {},
   "outputs": [
    {
     "data": {
      "image/png": "[encoded data removed]",
      "text/plain": [
       "<Figure size 432x288 with 1 Axes>"
      ]
     },
     "metadata": {},
     "output_type": "display_data"
    }
   ],
   "source": [
    "x_axis = [k for k in range(100_000,1_000_000,100_000)]\n",
    "plt.plot(x_axis, [time_count(k) for k in range(100_000,1_000_000,100_000)], label='Regular Count')\n",
    "plt.plot(x_axis, [time_priv_count(k) for k in range(100_000,1_000_000,100_000)], label='Private Count')\n",
    "plt.legend();"
   ]
  },
  {
   "cell_type": "markdown",
   "metadata": {},
   "source": [
    "With the time spent counting on the y-axis, and the list lize on the x-axis, we can see that the time complexity of differential privacy for this particular operation is essentially linear in the size of the input.\n",
    "\n",
    "The good news is that the above implementation of differentially private count is rather naive, and we can do much better using optimization techniques such as vectorization!\n",
    "\n",
    "For example, when implementing differential privacy for the machine learning operations in [a previous](https://programming-dp.com/ch12.html) chapter, we make use of NumPy functions which are heavily optimized for vector-based operations. In this particular scenario, leveraging this strategy, we manage to incur negligible time cost for the use of differential privacy."
   ]
  },
  {
   "cell_type": "code",
   "execution_count": 21,
   "metadata": {},
   "outputs": [],
   "source": [
    "delta = 1e-5\n",
    "\n",
    "def time_gd(k):   \n",
    "    start = time.perf_counter()\n",
    "    gradient_descent(k)\n",
    "    stop = time.perf_counter()\n",
    "    return stop - start \n",
    "\n",
    "def time_priv_gd(k):   \n",
    "    start = time.perf_counter()\n",
    "    noisy_gradient_descent(k, 0.1, delta)\n",
    "    stop = time.perf_counter()\n",
    "    return stop - start \n"
   ]
  },
  {
   "cell_type": "code",
   "execution_count": 22,
   "metadata": {},
   "outputs": [
    {
     "data": {
      "image/png": "[encoded data removed]",
      "text/plain": [
       "<Figure size 432x288 with 1 Axes>"
      ]
     },
     "metadata": {},
     "output_type": "display_data"
    }
   ],
   "source": [
    "x_axis = [k for k in range(10,100,25)]\n",
    "plt.plot(x_axis, [time_gd(k) for k in range(10,100,25)], label='Regular GD')\n",
    "plt.plot(x_axis, [time_priv_gd(k) for k in range(10,100,25)], label='Private GD')\n",
    "plt.legend();"
   ]
  },
  {
   "cell_type": "markdown",
   "metadata": {},
   "source": [
    "The graph plots generally overlap or are close in most simulations of this experiment, indicating low (constant) time inefficiency overhead incurred from utilizing private gradient descent."
   ]
  },
  {
   "cell_type": "markdown",
   "metadata": {},
   "source": [
    "## Space Cost of Differential Privacy\n",
    "\n",
    "We can also analyze the space utilization of differential privacy mechanisms. Python3 (3.4) introduces a [debug tool](https://docs.python.org/3/library/tracemalloc.html) capable of tracing memory blocks allocated for use during evaluation. We may perform our analysis of space overhead by comparing the peak size of memory blocks used during private versus non-private computation.\n",
    "\n",
    "Using this strategy, we can analyze the space overhead of the private count operation as follows:\n"
   ]
  },
  {
   "cell_type": "code",
   "execution_count": 23,
   "metadata": {},
   "outputs": [],
   "source": [
    "import itertools\n",
    "import operator\n",
    "import tracemalloc\n",
    "\n",
    "def space_count(k):   \n",
    "    l = [1] * k\n",
    "    itertools.accumulate(l, func=operator.add)\n",
    "    _, peak = tracemalloc.get_traced_memory()\n",
    "    tracemalloc.reset_peak()\n",
    "    return peak/1000 \n",
    "\n",
    "def space_priv_count(k):  \n",
    "    l = [1] * k\n",
    "    itertools.accumulate(l, func=lambda x, y: x + laplace_mech(y,1,0.1), initial=0)\n",
    "    _, peak = tracemalloc.get_traced_memory()\n",
    "    tracemalloc.reset_peak()\n",
    "    return peak/1000\n"
   ]
  },
  {
   "cell_type": "code",
   "execution_count": 24,
   "metadata": {},
   "outputs": [
    {
     "data": {
      "image/png": "[encoded data removed]",
      "text/plain": [
       "<Figure size 432x288 with 1 Axes>"
      ]
     },
     "metadata": {},
     "output_type": "display_data"
    }
   ],
   "source": [
    "tracemalloc.start()\n",
    "x_axis = [k for k in range(100_000,1_000_000,100_000)]\n",
    "plt.plot(x_axis, [space_count(k) for k in range(100_000,1_000_000,100_000)], label='Regular Count')\n",
    "plt.plot(x_axis, [space_priv_count(k) for k in range(100_000,1_000_000,100_000)], label='Private Count')\n",
    "tracemalloc.stop()\n",
    "plt.legend();"
   ]
  },
  {
   "cell_type": "markdown",
   "metadata": {},
   "source": [
    "We display every thousand memory blocks on the y-axis, against the list size on the x-axis. \n",
    "\n",
    "In this case, the memory complexity of differential privacy is generally constant.\n",
    "\n",
    "We also observe a spike in the initial space cost for private count, which we can attribute to memory allocation for setup of the random number generator resources such as the entropy pool and PRNG (pseudo-random number generator).\n",
    "\n",
    "We can repeat this experiment to contrast private and non-private machine learning:"
   ]
  },
  {
   "cell_type": "code",
   "execution_count": 25,
   "metadata": {},
   "outputs": [],
   "source": [
    "def space_gd(k):   \n",
    "    gradient_descent(k)\n",
    "    _, peak = tracemalloc.get_traced_memory()\n",
    "    tracemalloc.reset_peak()\n",
    "    return peak/1_000_000 \n",
    "\n",
    "def space_priv_gd(k):   \n",
    "    noisy_gradient_descent(k, 0.1, delta)\n",
    "    _, peak = tracemalloc.get_traced_memory()\n",
    "    tracemalloc.reset_peak()\n",
    "    return peak/1_000_000\n"
   ]
  },
  {
   "cell_type": "code",
   "execution_count": 26,
   "metadata": {},
   "outputs": [
    {
     "data": {
      "image/png": "[encoded data removed]",
      "text/plain": [
       "<Figure size 432x288 with 1 Axes>"
      ]
     },
     "metadata": {},
     "output_type": "display_data"
    }
   ],
   "source": [
    "tracemalloc.start()\n",
    "x_axis = [k for k in range(5,10,2)]\n",
    "plt.plot(x_axis, [space_gd(k) for k in range(5,10,2)], label='Regular GD')\n",
    "plt.plot(x_axis, [space_priv_gd(k) for k in range(5,10,2)], label='Private GD')\n",
    "tracemalloc.stop()\n",
    "plt.legend();"
   ]
  },
  {
   "cell_type": "markdown",
   "metadata": {},
   "source": [
    "In this case, since we are performing gradient descent, the memory allocation is generally much larger - as expected - so we graph against every millionth allocated memory block. \n",
    "\n",
    "We also observe generally constant space overhead during private gradient descent. However the space overhead is much larger here since we leverage extra space for vectorization and concurrency to improve time efficiency.\n",
    "\n",
    "## Limitations of Random Number Generation \n",
    "\n",
    "In conclusion, while some bottlenecks may exist, there are techniques we can use to keep both the space and time cost of differential privacy generally low (constant) throughout the lifetime of program evaluation.\n",
    "\n",
    "Why do any bottlenecks exist, and why are they particular to differential privacy? In order to preserve the guarantee of differential privacy, we require high-quality entropy. This is a limited resource because it generally relies on some external source of non-deterministic environmental input. Examples of non-determinintic entropy sources can include disk/network IO, keyboard presses, and mouse movement.\n",
    "\n",
    "Usually this entropy is stored in some special [buffer or file](https://en.wikipedia.org/wiki//dev/random) to be retrieved and used later on."
   ]
  },
  {
   "cell_type": "code",
   "execution_count": 27,
   "metadata": {},
   "outputs": [
    {
     "name": "stdout",
     "output_type": "stream",
     "text": [
      "b'\\xbe\\xfc\\x9b\\xd9.d\\xb7\\xca'\n"
     ]
    }
   ],
   "source": [
    "with open(\"/dev/random\", 'rb') as file:\n",
    "    print(file.read(8))"
   ]
  },
  {
   "cell_type": "markdown",
   "metadata": {},
   "source": [
    "Alternatively, we could use:"
   ]
  },
  {
   "cell_type": "code",
   "execution_count": 28,
   "metadata": {},
   "outputs": [
    {
     "data": {
      "text/plain": [
       "b'\\xc7G\\xa0\\xf7.]\\xaf\\xe60\\xfd6![ \\x9a\\x8f\\xcfa=\\xc0`mt\\xcfguE\\xe8\\x92^G\\xe9'"
      ]
     },
     "execution_count": 28,
     "metadata": {},
     "output_type": "execute_result"
    }
   ],
   "source": [
    "import os\n",
    "os.urandom(32)"
   ]
  },
  {
   "cell_type": "markdown",
   "metadata": {},
   "source": [
    "Or:"
   ]
  },
  {
   "cell_type": "code",
   "execution_count": 17,
   "metadata": {},
   "outputs": [
    {
     "data": {
      "text/plain": [
       "b\"t\\xfb\\xbfi\\x10U\\xca\\x13\\xce\\x1f\\xf9|\\x9b\\xd6\\x0f\\xce+\\x89*\\x9aR\\x0e_\\x0e\\x1b\\x9d'DcOT7\""
      ]
     },
     "execution_count": 17,
     "metadata": {},
     "output_type": "execute_result"
    }
   ],
   "source": [
    "import secrets \n",
    "secrets.token_bytes(32)"
   ]
  },
  {
   "cell_type": "markdown",
   "metadata": {},
   "source": [
    "In general, in different programming languages and operating systems, there are several options for random number and seed generation, with varying applicability for use cases such as: modeling, simulation, or production of cryptographically strong random bytes suitable for managing sensitive user data at scale."
   ]
  },
  {
   "cell_type": "code",
   "execution_count": null,
   "metadata": {},
   "outputs": [],
   "source": []
  }
 ],
 "metadata": {
  "celltoolbar": "Tags",
  "kernelspec": {
   "display_name": "Python 3",
   "language": "python",
   "name": "python3"
  },
  "language_info": {
   "codemirror_mode": {
    "name": "ipython",
    "version": 3
   },
   "file_extension": ".py",
   "mimetype": "text/x-python",
   "name": "python",
   "nbconvert_exporter": "python",
   "pygments_lexer": "ipython3",
   "version": "3.9.9"
  }
 },
 "nbformat": 4,
 "nbformat_minor": 2
}
